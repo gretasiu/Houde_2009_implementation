{
 "cells": [
  {
   "cell_type": "code",
   "execution_count": 1,
   "metadata": {},
   "outputs": [],
   "source": [
    "import os\n",
    "import numpy as np\n",
    "\n",
    "from astropy.io.fits import getdata\n",
    "from astropy import wcs\n",
    "from astropy.io import fits\n",
    "from astropy import units as u\n",
    "from astropy import constants as con\n",
    "from astropy.coordinates import SkyCoord\n",
    "\n",
    "import matplotlib\n",
    "import matplotlib.pyplot as plt\n",
    "import matplotlib as mpl\n",
    "import matplotlib\n",
    "\n",
    "import aplpy\n",
    "\n",
    "import math\n",
    "from scipy.interpolate import interp1d\n",
    "\n",
    "#matplotlib.use('PDF')\n",
    "\n",
    "from __future__ import print_function\n",
    "from scipy.optimize import curve_fit\n",
    "\n",
    "deg_to_rad = 0.0174533\n",
    "rad_to_deg = 57.2958\n",
    "arcsec_to_arcmin = 0.0166667"
   ]
  },
  {
   "cell_type": "markdown",
   "metadata": {},
   "source": [
    "## Step 1: sampling the dispersion function data "
   ]
  },
  {
   "cell_type": "code",
   "execution_count": 2,
   "metadata": {},
   "outputs": [
    {
     "name": "stdout",
     "output_type": "stream",
     "text": [
      "bmaj is 0.0007631573244\n"
     ]
    },
    {
     "name": "stderr",
     "output_type": "stream",
     "text": [
      "WARNING: FITSFixedWarning: 'obsfix' made the change 'Set OBSGEO-L to  -107.618000 from OBSGEO-[XYZ].\n",
      "Set OBSGEO-B to    34.078827 from OBSGEO-[XYZ].\n",
      "Set OBSGEO-H to     2115.607 from OBSGEO-[XYZ]'. [astropy.wcs.wcs]\n"
     ]
    }
   ],
   "source": [
    "# Importing JVLA PA file\n",
    "PAmap = 'G31p4_Qband_D.rob2.PA.image.tt0.miriad.dropdeg.fits'\n",
    "intensity_scale = 1.0\n",
    "if_success = False\n",
    "try:\n",
    "\n",
    "    # importing FITS image to a HDU\n",
    "    PAhdu = fits.open(PAmap)\n",
    "\n",
    "    # editing the FITS image by multiplying a scaling factor\n",
    "    PAhdu[0].data = PAhdu[0].data * intensity_scale\n",
    "\n",
    "    if_success = True\n",
    "\n",
    "except:\n",
    "    print('Unable to read the PA FITS image. Please double check the image file.')\n",
    "    print(PAmap)\n",
    "\n",
    "if (if_success == True):\n",
    "    # Reading FITS header\n",
    "    try:\n",
    "        naxis1 = PAhdu[0].header['naxis1']\n",
    "        naxis2 = PAhdu[0].header['naxis2']\n",
    "        crval1 = PAhdu[0].header['crval1']\n",
    "        crpix1 = PAhdu[0].header['crpix1']\n",
    "        cdelt1 = PAhdu[0].header['cdelt1']\n",
    "        crval2 = PAhdu[0].header['crval2']\n",
    "        crpix2 = PAhdu[0].header['crpix2']\n",
    "        cdelt2 = PAhdu[0].header['cdelt2']\n",
    "        hduwcs = wcs.WCS(PAhdu[0].header)\n",
    "    except:\n",
    "        print('Warning. No coordinate headers')\n",
    "\n",
    "    try:\n",
    "        bmaj = PAhdu[0].header['bmaj']\n",
    "        bmin = PAhdu[0].header['bmin']\n",
    "        bpa = PAhdu[0].header['bpa']\n",
    "        print(\"bmaj is\", bmaj)\n",
    "    except:\n",
    "        print('Warnning. No header for synthesized beam size')"
   ]
  },
  {
   "cell_type": "code",
   "execution_count": 3,
   "metadata": {},
   "outputs": [
    {
     "name": "stdout",
     "output_type": "stream",
     "text": [
      "PI_bmaj is 0.0007631573244\n"
     ]
    }
   ],
   "source": [
    "# Importing JVLA PI file (for calculating the effective cloud depth)\n",
    "PImap = 'G31p4_Qband_D.rob2.PI.image.tt0.miriad.dropdeg.fits'\n",
    "intensity_scale = 1.0\n",
    "if_success = False\n",
    "try:\n",
    "\n",
    "    # importing FITS image to a HDU\n",
    "    PIhdu = fits.open(PImap)\n",
    "\n",
    "    # editing the FITS image by multiplying a scaling factor\n",
    "    PIhdu[0].data = PIhdu[0].data * intensity_scale\n",
    "\n",
    "    if_success = True\n",
    "\n",
    "except:\n",
    "    print('Unable to read the PA FITS image. Please double check the image file.')\n",
    "    print(PImap)\n",
    "\n",
    "if (if_success == True):\n",
    "    # Reading FITS header\n",
    "    try:\n",
    "        PInaxis1 = PIhdu[0].header['naxis1']\n",
    "        PInaxis2 = PIhdu[0].header['naxis2']\n",
    "        PIcrval1 = PIhdu[0].header['crval1']\n",
    "        PIcrpix1 = PIhdu[0].header['crpix1']\n",
    "        PIcdelt1 = PIhdu[0].header['cdelt1']\n",
    "        PIcrval2 = PIhdu[0].header['crval2']\n",
    "        PIcrpix2 = PIhdu[0].header['crpix2']\n",
    "        PIcdelt2 = PIhdu[0].header['cdelt2']\n",
    "        PIhduwcs = wcs.WCS(PIhdu[0].header)\n",
    "    except:\n",
    "        print('Warning. No coordinate headers')\n",
    "\n",
    "    try:\n",
    "        PIbmaj = PIhdu[0].header['bmaj']\n",
    "        PIbmin = PIhdu[0].header['bmin']\n",
    "        PIbpa = PIhdu[0].header['bpa']\n",
    "        print(\"PI_bmaj is\", PIbmaj)\n",
    "    except:\n",
    "        print('Warnning. No header for synthesized beam size')"
   ]
  },
  {
   "cell_type": "code",
   "execution_count": 4,
   "metadata": {},
   "outputs": [],
   "source": [
    "xlower = 221\n",
    "ylower = 223\n",
    "xupper = 260\n",
    "yupper = 262\n",
    "PAcenter = []\n",
    "\n",
    "#PA = PAhdu[0].data\n",
    "\n",
    "# selecting PA only in the center region and putting them in a 1D array PAcenter\n",
    "for x in range(xlower, xupper, 1):\n",
    "    for y in range(ylower, yupper, 1):\n",
    "        PA_JVLA = PAhdu[0].data[x][y]\n",
    "        PAcenter.append(PA_JVLA)\n",
    "\n",
    "# turning the list into an numpy array so we can use isnan to filter out the nan values\n",
    "PAcenter = np.array([PAcenter])\n",
    "PAcenter = PAcenter[~np.isnan(PAcenter)]"
   ]
  },
  {
   "cell_type": "code",
   "execution_count": 5,
   "metadata": {},
   "outputs": [],
   "source": [
    "PAcenter4 = []\n",
    "PAcenter4_nonan = [] # the array used to calculate Houde \n",
    "\n",
    "# selecting PA only in the center region and putting them in a 3D array PAcenter; \n",
    "# [i][0] is the x coordinate, [i][1] is the y coordinate, [i][2] is the PA value \n",
    "for x in range(xlower, xupper, 1):\n",
    "    for y in range(ylower, yupper, 1):\n",
    "        PA_JVLA4 = [x, y, PAhdu[0].data[x][y]]\n",
    "        PAcenter4.append(PA_JVLA4)  \n",
    "\n",
    "# turning the list into an numpy array so we can use isnan to filter out the nan values\n",
    "for i in range(len(PAcenter4)):\n",
    "    if math.isnan(PAcenter4[i][2]) == False:\n",
    "        PA_JVLA4_nonan = [PAcenter4[i][0], PAcenter4[i][1], PAcenter4[i][2]]\n",
    "        PAcenter4_nonan.append(PA_JVLA4_nonan)\n",
    "\n",
    "# Outputting to data file just for checking  \n",
    "outputFile1 = open(\"houde_array_nonan.tab\", \"w\")\n",
    "\n",
    "for i in range(len(PAcenter4_nonan)):\n",
    "    print(PAcenter4_nonan[i][0], PAcenter4_nonan[i][1], PAcenter4_nonan[i][2], sep='\\t', file=outputFile1)\n",
    "\n",
    "outputFile1.close()    "
   ]
  },
  {
   "cell_type": "code",
   "execution_count": 6,
   "metadata": {},
   "outputs": [],
   "source": [
    "# Main point: producing ell and the corresponding deltaPA and putting them into a 1D array\n",
    "# 1D array so it is easier to bin them later using fucntions like np.histogram\n",
    "\n",
    "deltaPA = []\n",
    "ell_pixel = []\n",
    "ell_arcsec = []\n",
    "PA_vs_ellarcsec = []\n",
    "pixel_size = 0.2983 # arcsecond\n",
    "\n",
    "for i in range(len(PAcenter4_nonan)):\n",
    "    # returning these holder list to zero for every target pixel\n",
    "    sublistPA = []\n",
    "    sublistellpixel = []\n",
    "    sublistellarcsec = []\n",
    "    for j in range(i+1, len(PAcenter4_nonan), 1):\n",
    "        # delta PA constrained to [0, 90] deg \n",
    "        deltaPAij = abs(PAcenter4_nonan[j][2] - PAcenter4_nonan[i][2])\n",
    "        if deltaPAij > 90 or deltaPAij == 90:\n",
    "            deltaPAij = 180 - deltaPAij        \n",
    "        sublistPA.append(deltaPAij)\n",
    "        \n",
    "        # distance in pixel between 2 pixels \n",
    "        ell_pixelij = np.sqrt((PAcenter4_nonan[i][0]-PAcenter4_nonan[j][0])**2 + (PAcenter4_nonan[i][1]-PAcenter4_nonan[j][1])**2)\n",
    "        sublistellpixel.append(ell_pixelij)\n",
    "        \n",
    "        # distance in arcsecond between 2 pixels\n",
    "        ell_arcsecij = ell_pixelij * pixel_size\n",
    "        sublistellarcsec.append(ell_arcsecij)\n",
    "        \n",
    "        # putting all the deltaPA values with their corresponding ell into a 2D array\n",
    "        # where PA_vs_ellpixel[k][0] is ell in arcsec and PA_vs_ellpixel[k][1] is the deltaPA \n",
    "        sublistellvsPA = [ell_arcsecij, deltaPAij, np.cos(deltaPAij*deg_to_rad)]\n",
    "        PA_vs_ellarcsec.append(sublistellvsPA)\n",
    "        \n",
    "    # back to to i loop    \n",
    "    deltaPA.append(sublistPA)\n",
    "    ell_pixel.append(sublistellpixel)\n",
    "    ell_arcsec.append(sublistellarcsec)\n",
    "\n",
    "# output delta PA into data file \n",
    "outputFile2 = open(\"deltaPA2.tab\", \"w\")\n",
    "for i in range(len(deltaPA)):\n",
    "    print(deltaPA[i], sep='\\t', file=outputFile2)\n",
    "outputFile2.close()  \n",
    "\n",
    "# output distance in pixel into data file \n",
    "outputFile3 = open(\"ell_pixel.tab\", \"w\")\n",
    "for i in range(len(ell_pixel)):\n",
    "    print(ell_pixel[i], sep='\\t', file=outputFile3)\n",
    "outputFile3.close()  \n",
    "\n",
    "# output distance in arcsecond into data file \n",
    "outputFile4 = open(\"ell_arcsec.tab\", \"w\")\n",
    "for i in range(len(ell_arcsec)):\n",
    "    print(ell_arcsec[i], sep='\\t', file=outputFile4)\n",
    "outputFile4.close()  \n",
    "\n",
    "# output distance in arcsecond into data file \n",
    "outputFile5 = open(\"PA_vs_ellarcsec.tab\", \"w\")\n",
    "for i in range(len(PA_vs_ellarcsec)):\n",
    "    print(PA_vs_ellarcsec[i], sep='\\t', file=outputFile5)\n",
    "outputFile5.close()  "
   ]
  },
  {
   "cell_type": "code",
   "execution_count": 7,
   "metadata": {},
   "outputs": [],
   "source": [
    "# Binning the data into bins of ell_k \n",
    "\n",
    "PA_vs_ellarcsec_arr = np.asarray(PA_vs_ellarcsec)\n",
    "count4, bin4 = np.histogram(PA_vs_ellarcsec_arr[:, 0], bins = 60)\n",
    "#print(bin4)\n",
    "#print(count4)\n",
    "\n",
    "cos_deltaPA_bin = []\n",
    "\n",
    "for index in range(len(bin4)):\n",
    "    sublist_cos_deltaPA_bin = []\n",
    "    if index < (len(bin4)-2): \n",
    "        for i in range(len(PA_vs_ellarcsec)):\n",
    "            if (PA_vs_ellarcsec[i][0] > bin4[index] or PA_vs_ellarcsec[i][0] == bin4[index]) and PA_vs_ellarcsec[i][0] < bin4[index+1]:\n",
    "                sublist_cos_deltaPA_bin.append(PA_vs_ellarcsec[i][2])\n",
    "        #print(bin4[index], len(sublist_cos_deltaPA_bin))        \n",
    "        cos_deltaPA_bin.append(sublist_cos_deltaPA_bin)\n",
    "    \n",
    "    if index == (len(bin4)-2): \n",
    "        for i in range(len(PA_vs_ellarcsec)):\n",
    "            if (PA_vs_ellarcsec[i][0] > bin4[index] or PA_vs_ellarcsec[i][0] == bin4[index]) and (PA_vs_ellarcsec[i][0] < bin4[index+1] or PA_vs_ellarcsec[i][0] == bin4[index]):\n",
    "                sublist_cos_deltaPA_bin.append(PA_vs_ellarcsec[i][2])\n",
    "        #print(bin4[index], len(sublist_cos_deltaPA_bin)) \n",
    "        cos_deltaPA_bin.append(sublist_cos_deltaPA_bin)\n",
    "\n",
    "# At the end, cos_deltaPA_bin contains 9 rows and each row contians differnt number of element, depending on the count in each bin\n",
    "# Each row represents the left edge of each bin"
   ]
  },
  {
   "cell_type": "code",
   "execution_count": 8,
   "metadata": {},
   "outputs": [
    {
     "data": {
      "image/png": "[encoded data removed]",
      "text/plain": [
       "<Figure size 864x576 with 1 Axes>"
      ]
     },
     "metadata": {
      "needs_background": "light"
     },
     "output_type": "display_data"
    },
    {
     "data": {
      "image/png": "[encoded data removed]",
      "text/plain": [
       "<Figure size 864x576 with 1 Axes>"
      ]
     },
     "metadata": {
      "needs_background": "light"
     },
     "output_type": "display_data"
    }
   ],
   "source": [
    "avg_cos_deltaPA = []\n",
    "for i in range(len(cos_deltaPA_bin)):\n",
    "    sublist_avg_cos_deltaPA = [bin4[i], np.mean(cos_deltaPA_bin[i])]\n",
    "    avg_cos_deltaPA.append(sublist_avg_cos_deltaPA)\n",
    "    \n",
    "outputFile6 = open(\"avg_cos_deltaPA_vs_ell.tab\", \"w\")\n",
    "for i in range(len(avg_cos_deltaPA)):\n",
    "    print(avg_cos_deltaPA[i], sep='\\t', file=outputFile6)\n",
    "outputFile6.close()  \n",
    "\n",
    "avg_cos_deltaPA_plot = []\n",
    "for i in range(len(cos_deltaPA_bin)):\n",
    "    avg_cos_deltaPA_plot.append(1.0 - avg_cos_deltaPA[i][1])\n",
    "#print(avg_cos_deltaPA_plot)\n",
    "\n",
    "ell_plot = np.asarray(avg_cos_deltaPA)[:, 0]\n",
    "#print(ell_plot)\n",
    "\n",
    "ell2_plot = ell_plot**2\n",
    "\n",
    "fig = plt.figure(figsize=(12,8))\n",
    "plt.xlabel(r'$ \\mathrm{Distance}^2\\/\\/ \\ell^2\\/\\/ [\\mathrm{arcsec}]$')\n",
    "plt.ylabel(r'$[1 - <\\mathrm{cos}(\\Delta \\Phi)>]$')\n",
    "plt.scatter(ell2_plot, avg_cos_deltaPA_plot)\n",
    "plt.show() \n",
    "\n",
    "fig = plt.figure(figsize=(12,8))\n",
    "plt.xlabel(r'$ \\mathrm{Distance}\\/\\/ \\ell\\/\\/ [\\mathrm{arcsec}]$')\n",
    "plt.ylabel(r'$[1 - <\\mathrm{cos}(\\Delta \\Phi)>]$')\n",
    "plt.scatter(ell_plot, avg_cos_deltaPA_plot)\n",
    "plt.show() "
   ]
  },
  {
   "cell_type": "markdown",
   "metadata": {},
   "source": [
    "## Step 2: Finding effective cloud depth "
   ]
  },
  {
   "cell_type": "code",
   "execution_count": 9,
   "metadata": {},
   "outputs": [],
   "source": [
    "PIcenter4 = []\n",
    "PIcenter4_nonan = [] # the array used to calculate Houde \n",
    "\n",
    "# selecting PI only in the center region and putting them in a 3D array PIcenter; \n",
    "# [i][0] is the x coordinate, [i][1] is the y coordinate, [i][2] is the PI value \n",
    "for x in range(xlower, xupper, 1):\n",
    "    for y in range(ylower, yupper, 1):\n",
    "        PI_JVLA4 = [x, y, PIhdu[0].data[x][y]]\n",
    "        PIcenter4.append(PI_JVLA4)  \n",
    "\n",
    "# turning the list into an numpy array so we can use isnan to filter out the nan values\n",
    "for i in range(len(PIcenter4)):\n",
    "    if math.isnan(PIcenter4[i][2]) == False:\n",
    "        PI_JVLA4_nonan = [PIcenter4[i][0], PIcenter4[i][1], PIcenter4[i][2]]\n",
    "        PIcenter4_nonan.append(PI_JVLA4_nonan)\n",
    "        \n",
    "outputFile7 = open(\"houde_PI_array_nonan.tab\", \"w\")\n",
    "\n",
    "for i in range(len(PIcenter4_nonan)):\n",
    "    print(PIcenter4_nonan[i][0], PIcenter4_nonan[i][1], PIcenter4_nonan[i][2], sep='\\t', file=outputFile7)\n",
    "\n",
    "outputFile7.close()   "
   ]
  },
  {
   "cell_type": "code",
   "execution_count": 10,
   "metadata": {},
   "outputs": [],
   "source": [
    "PI_square = []\n",
    "PI_ell_pixel = []\n",
    "PI_ell_arcsec = []\n",
    "PI_vs_ellarcsec = []\n",
    "#pixel_size = 0.2983 # arcsecond\n",
    "\n",
    "for i in range(len(PIcenter4_nonan)):\n",
    "    # returning these holder list to zero for every target pixel\n",
    "    sublistPI = []\n",
    "    sublist_PIellpixel = []\n",
    "    sublist_PIellarcsec = []\n",
    "    for j in range(i, len(PIcenter4_nonan), 1):\n",
    "        # P^2(l) = P(r)P(r+l) \n",
    "        deltaPIij = PIcenter4_nonan[j][2]*PIcenter4_nonan[i][2]      \n",
    "        sublistPI.append(deltaPIij)\n",
    "        \n",
    "        # distance in pixel between 2 pixels \n",
    "        PI_ell_pixelij = np.sqrt((PIcenter4_nonan[i][0]-PIcenter4_nonan[j][0])**2 + (PIcenter4_nonan[i][1]-PIcenter4_nonan[j][1])**2)\n",
    "        sublist_PIellpixel.append(PI_ell_pixelij)\n",
    "        \n",
    "        # distance in arcsecond between 2 pixels\n",
    "        PI_ell_arcsecij = PI_ell_pixelij * pixel_size\n",
    "        sublist_PIellarcsec.append(PI_ell_arcsecij)\n",
    "        \n",
    "        # putting all the PI^2 values with their corresponding ell into a 2D array\n",
    "        # where PI_vs_ellarcsec[k][0] is ell in arcsec and PI_vs_ellarcsec[k][1] is the PI^2 \n",
    "        sublistellvsPI = [PI_ell_arcsecij, deltaPIij]\n",
    "        PI_vs_ellarcsec.append(sublistellvsPI)\n",
    "        \n",
    "    # back to to i loop    \n",
    "    PI_square.append(sublistPI)\n",
    "    PI_ell_pixel.append(sublist_PIellpixel)\n",
    "    PI_ell_arcsec.append(sublist_PIellarcsec)"
   ]
  },
  {
   "cell_type": "code",
   "execution_count": 21,
   "metadata": {},
   "outputs": [],
   "source": [
    "# Binning the data into bins of ell_k \n",
    "PI_vs_ellarcsec_arr = np.asarray(PI_vs_ellarcsec)\n",
    "count41, bin41 = np.histogram(PI_vs_ellarcsec_arr[:, 0], bins = 10)\n",
    "#print(bin41)\n",
    "#print(count41)\n",
    "\n",
    "P_sqaure_bin = []\n",
    "\n",
    "for index in range(len(bin41)):\n",
    "    sublist_P_sqaure_bin = []\n",
    "    if index < (len(bin41)-2): \n",
    "        for i in range(len(PI_vs_ellarcsec)):\n",
    "            if (PI_vs_ellarcsec[i][0] > bin41[index] or PI_vs_ellarcsec[i][0] == bin41[index]) and PI_vs_ellarcsec[i][0] < bin41[index+1]:\n",
    "                sublist_P_sqaure_bin.append(PI_vs_ellarcsec[i][1])\n",
    "        #print(bin41[index], len(sublist_P_sqaure_bin))        \n",
    "        P_sqaure_bin.append(sublist_P_sqaure_bin)\n",
    "    \n",
    "    if index == (len(bin41)-2): \n",
    "        for i in range(len(PI_vs_ellarcsec)):\n",
    "            if (PI_vs_ellarcsec[i][0] > bin41[index] or PI_vs_ellarcsec[i][0] == bin41[index]) and (PI_vs_ellarcsec[i][0] < bin41[index+1] or PI_vs_ellarcsec[i][0] == bin41[index]):\n",
    "                sublist_P_sqaure_bin.append(PI_vs_ellarcsec[i][1])\n",
    "        #print(bin41[index], len(sublist_P_sqaure_bin)) \n",
    "        P_sqaure_bin.append(sublist_P_sqaure_bin)\n",
    "\n",
    "# At the end, cos_deltaPA_bin contains 9 rows and each row contians differnt number of element, depending on the count in each bin\n",
    "# Each row represents the left edge of each bin"
   ]
  },
  {
   "cell_type": "code",
   "execution_count": 22,
   "metadata": {},
   "outputs": [
    {
     "name": "stdout",
     "output_type": "stream",
     "text": [
      "Like in Houde 2009, the distance corresponding to half of the correlation function is taken arbitarily to be the effective cloud depth\n",
      "The effective cloud depth is 9.8 arcsec, the coressponding normalized PI correlation function is  0.5072664667308873\n"
     ]
    },
    {
     "data": {
      "image/png": "[encoded data removed]",
      "text/plain": [
       "<Figure size 864x576 with 1 Axes>"
      ]
     },
     "metadata": {
      "needs_background": "light"
     },
     "output_type": "display_data"
    }
   ],
   "source": [
    "avg_P_sqaure = []\n",
    "for i in range(len(P_sqaure_bin)):\n",
    "    sublist_avg_P_sqaure = [bin41[i], np.mean(P_sqaure_bin[i])]\n",
    "    avg_P_sqaure.append(sublist_avg_P_sqaure)\n",
    "\n",
    "avg_P_sqaure_ratio = []\n",
    "for i in range(len(avg_P_sqaure)):\n",
    "    avg_P_sqaure_ratio.append(avg_P_sqaure[i][1]/avg_P_sqaure[0][1])\n",
    "#print(avg_P_sqaure_ratio)\n",
    "\n",
    "PI_ell_plot = np.asarray(avg_P_sqaure)[:, 0]\n",
    "#print(PI_ell_plot)\n",
    "\n",
    "# Finding the distance corresponding to ratio = 0.5\n",
    "f = interp1d(PI_ell_plot, avg_P_sqaure_ratio)\n",
    "trial_distance = 9.8\n",
    "ratio = f(trial_distance)\n",
    "print(\"Like in Houde 2009, the distance corresponding to half of the correlation function is taken arbitarily to be the effective cloud depth\")\n",
    "print(\"The effective cloud depth is\", trial_distance, \"arcsec, the coressponding normalized PI correlation function is \", ratio)\n",
    "    \n",
    "fig = plt.figure(figsize=(12,8))\n",
    "plt.xlabel(r'$ \\mathrm{Distance}\\/\\/ \\ell\\/\\/ [\\mathrm{arcsec}]$')\n",
    "plt.ylabel(r'$<P^2(\\ell)>/<P^2(0)>$')\n",
    "plt.scatter(PI_ell_plot, avg_P_sqaure_ratio)\n",
    "plt.show() "
   ]
  },
  {
   "cell_type": "markdown",
   "metadata": {},
   "source": [
    "## Step 3: Fitting dispersion funtion to get angular dispersion"
   ]
  },
  {
   "cell_type": "markdown",
   "metadata": {},
   "source": [
    "### 3.1 Directly fitting all 3 parameters without bound --> RuntimeError"
   ]
  },
  {
   "cell_type": "code",
   "execution_count": 13,
   "metadata": {},
   "outputs": [
    {
     "ename": "RuntimeError",
     "evalue": "Optimal parameters not found: Number of calls to function has reached maxfev = 800.",
     "output_type": "error",
     "traceback": [
      "\u001b[0;31m---------------------------------------------------------------------------\u001b[0m",
      "\u001b[0;31mRuntimeError\u001b[0m                              Traceback (most recent call last)",
      "\u001b[0;32m<ipython-input-13-ff7eada995fe>\u001b[0m in \u001b[0;36m<module>\u001b[0;34m\u001b[0m\n\u001b[1;32m     11\u001b[0m \u001b[0;34m\u001b[0m\u001b[0m\n\u001b[1;32m     12\u001b[0m \u001b[0;31m# simultaneously fitting all 3 parameters\u001b[0m\u001b[0;34m\u001b[0m\u001b[0;34m\u001b[0m\u001b[0;34m\u001b[0m\u001b[0m\n\u001b[0;32m---> 13\u001b[0;31m \u001b[0mparameters\u001b[0m\u001b[0;34m,\u001b[0m \u001b[0mcovariance\u001b[0m \u001b[0;34m=\u001b[0m \u001b[0mcurve_fit\u001b[0m\u001b[0;34m(\u001b[0m\u001b[0mcorrelation_func\u001b[0m\u001b[0;34m,\u001b[0m \u001b[0mell_fit\u001b[0m\u001b[0;34m,\u001b[0m \u001b[0mavg_cos_deltaPA_fit\u001b[0m\u001b[0;34m)\u001b[0m\u001b[0;34m\u001b[0m\u001b[0;34m\u001b[0m\u001b[0m\n\u001b[0m\u001b[1;32m     14\u001b[0m \u001b[0;34m\u001b[0m\u001b[0m\n\u001b[1;32m     15\u001b[0m \u001b[0mfit_delta\u001b[0m \u001b[0;34m=\u001b[0m \u001b[0mparameters\u001b[0m\u001b[0;34m[\u001b[0m\u001b[0;36m0\u001b[0m\u001b[0;34m]\u001b[0m\u001b[0;34m\u001b[0m\u001b[0;34m\u001b[0m\u001b[0m\n",
      "\u001b[0;32m~/opt/anaconda3/lib/python3.8/site-packages/scipy/optimize/minpack.py\u001b[0m in \u001b[0;36mcurve_fit\u001b[0;34m(f, xdata, ydata, p0, sigma, absolute_sigma, check_finite, bounds, method, jac, **kwargs)\u001b[0m\n\u001b[1;32m    787\u001b[0m         \u001b[0mcost\u001b[0m \u001b[0;34m=\u001b[0m \u001b[0mnp\u001b[0m\u001b[0;34m.\u001b[0m\u001b[0msum\u001b[0m\u001b[0;34m(\u001b[0m\u001b[0minfodict\u001b[0m\u001b[0;34m[\u001b[0m\u001b[0;34m'fvec'\u001b[0m\u001b[0;34m]\u001b[0m \u001b[0;34m**\u001b[0m \u001b[0;36m2\u001b[0m\u001b[0;34m)\u001b[0m\u001b[0;34m\u001b[0m\u001b[0;34m\u001b[0m\u001b[0m\n\u001b[1;32m    788\u001b[0m         \u001b[0;32mif\u001b[0m \u001b[0mier\u001b[0m \u001b[0;32mnot\u001b[0m \u001b[0;32min\u001b[0m \u001b[0;34m[\u001b[0m\u001b[0;36m1\u001b[0m\u001b[0;34m,\u001b[0m \u001b[0;36m2\u001b[0m\u001b[0;34m,\u001b[0m \u001b[0;36m3\u001b[0m\u001b[0;34m,\u001b[0m \u001b[0;36m4\u001b[0m\u001b[0;34m]\u001b[0m\u001b[0;34m:\u001b[0m\u001b[0;34m\u001b[0m\u001b[0;34m\u001b[0m\u001b[0m\n\u001b[0;32m--> 789\u001b[0;31m             \u001b[0;32mraise\u001b[0m \u001b[0mRuntimeError\u001b[0m\u001b[0;34m(\u001b[0m\u001b[0;34m\"Optimal parameters not found: \"\u001b[0m \u001b[0;34m+\u001b[0m \u001b[0merrmsg\u001b[0m\u001b[0;34m)\u001b[0m\u001b[0;34m\u001b[0m\u001b[0;34m\u001b[0m\u001b[0m\n\u001b[0m\u001b[1;32m    790\u001b[0m     \u001b[0;32melse\u001b[0m\u001b[0;34m:\u001b[0m\u001b[0;34m\u001b[0m\u001b[0;34m\u001b[0m\u001b[0m\n\u001b[1;32m    791\u001b[0m         \u001b[0;31m# Rename maxfev (leastsq) to max_nfev (least_squares), if specified.\u001b[0m\u001b[0;34m\u001b[0m\u001b[0;34m\u001b[0m\u001b[0;34m\u001b[0m\u001b[0m\n",
      "\u001b[0;31mRuntimeError\u001b[0m: Optimal parameters not found: Number of calls to function has reached maxfev = 800."
     ]
    }
   ],
   "source": [
    "# extracting only the first 15 data points of the dispersion fucntion to do fitting \n",
    "ell_fit = ell2_plot[:15]\n",
    "avg_cos_deltaPA_fit = avg_cos_deltaPA_plot[:15]\n",
    "\n",
    "W = (2.747+1.617)/2.0 # beam \"radius\"\n",
    "Delta_prime = trial_distance # effective cloud depth; 9.8 arcsec\n",
    "\n",
    "def correlation_func(ell2, delta, PAdispersion4, a_2_prime):\n",
    "    correlation = np.sqrt(2*np.pi)*PAdispersion4*((delta**3)/((delta**2+2*W**2)*Delta_prime))*(1-np.exp((-ell2)/(2*(delta**2+2*W**2))))+a_2_prime*(ell2)\n",
    "    return correlation\n",
    "\n",
    "# simultaneously fitting all 3 parameters\n",
    "parameters, covariance = curve_fit(correlation_func, ell_fit, avg_cos_deltaPA_fit)\n",
    "\n",
    "fit_delta = parameters[0]\n",
    "fit_PAdispersion4 = parameters[1]\n",
    "fit_a_2_prime = parameters[2]\n",
    "\n",
    "print(\"The sqaure of PA dispersion is fitted to be\", fit_PAdispersion4)\n",
    "print(\"delta is fitted to be\", fit_delta)\n",
    "print(\"a' is fitted to be\", fit_a_2_prime)\n",
    "\n",
    "correlation_func_fit = correlation_func(ell2_plot[:15], fit_delta, fit_PAdispersion4, fit_a_2_prime)\n",
    "fig = plt.figure(figsize=(12,4))\n",
    "plt.xlabel(r'$ \\mathrm{Distance}^2\\/\\/ \\ell^2\\/\\/ [\\mathrm{arcsec^2}]$')\n",
    "plt.ylabel(r'$[1 - <\\mathrm{cos}(\\Delta \\Phi)>]$')\n",
    "plt.scatter(ell_fit, avg_cos_deltaPA_fit)\n",
    "plt.plot(ell_fit, correlation_func_fit, '-')\n",
    "plt.show() "
   ]
  },
  {
   "cell_type": "markdown",
   "metadata": {},
   "source": [
    "### 3.2 Directly fitting all 3 parameters with arbitrary bound"
   ]
  },
  {
   "cell_type": "code",
   "execution_count": 31,
   "metadata": {},
   "outputs": [
    {
     "name": "stdout",
     "output_type": "stream",
     "text": [
      "The beam radius is 2.182 arcsecond\n",
      "The sqaure of PA dispersion is fitted to be 2.999999996196478\n",
      "delta is fitted to be 0.9259742607211406\n",
      "a' is fitted to be 8.179195207777077e-11\n"
     ]
    },
    {
     "data": {
      "image/png": "[encoded data removed]",
      "text/plain": [
       "<Figure size 864x288 with 1 Axes>"
      ]
     },
     "metadata": {
      "needs_background": "light"
     },
     "output_type": "display_data"
    }
   ],
   "source": [
    "# extracting only the first 15 data points of the dispersion fucntion to do fitting \n",
    "ell_fit = ell2_plot[:16]\n",
    "avg_cos_deltaPA_fit = avg_cos_deltaPA_plot[:16]\n",
    "\n",
    "W = (2.747+1.617)/2.0 # beam \"radius\"\n",
    "Delta_prime = trial_distance # effective cloud depth; 9.8 arcsec\n",
    "print(\"The beam radius is\", W, \"arcsecond\")\n",
    "\n",
    "def correlation_func(ell2, delta, PAdispersion4, a_2_prime):\n",
    "    correlation = np.sqrt(2*np.pi)*PAdispersion4*((delta**3)/((delta**2+2*W**2)*Delta_prime))*(1-np.exp((-ell2)/(2*(delta**2+2*W**2))))+a_2_prime*(ell2)\n",
    "    return correlation\n",
    "\n",
    "# simultaneously fitting all 3 parameters\n",
    "parameters, covariance = curve_fit(correlation_func, ell_fit, avg_cos_deltaPA_fit, bounds=([0, 0, 0], [3., 3., 3.]))\n",
    "\n",
    "fit_delta = parameters[0]\n",
    "fit_PAdispersion4 = parameters[1]\n",
    "fit_a_2_prime = parameters[2]\n",
    "\n",
    "print(\"The sqaure of PA dispersion is fitted to be\", fit_PAdispersion4)\n",
    "print(\"delta is fitted to be\", fit_delta)\n",
    "print(\"a' is fitted to be\", fit_a_2_prime)\n",
    "\n",
    "correlation_func_fit = correlation_func(ell_fit, fit_delta, fit_PAdispersion4, fit_a_2_prime)\n",
    "fig = plt.figure(figsize=(12,4))\n",
    "plt.xlabel(r'$ \\mathrm{Distance}^2\\/\\/ \\ell^2\\/\\/ [\\mathrm{arcsec^2}]$')\n",
    "plt.ylabel(r'$[1 - <\\mathrm{cos}(\\Delta \\Phi)>]$')\n",
    "plt.scatter(ell_fit, avg_cos_deltaPA_fit)\n",
    "plt.plot(ell_fit, correlation_func_fit, '-')\n",
    "plt.show() "
   ]
  },
  {
   "cell_type": "markdown",
   "metadata": {},
   "source": [
    "<font size=\"3\">\n",
    "Comment: <br>\n",
    "The bound is set to be 0 to 3. The 3 parameters must be positive, hence the lower bound. The upper bound is entirely arbitrary but the fitting doesn't seem so bad. So I keep it here. \n",
    "</font>"
   ]
  },
  {
   "cell_type": "markdown",
   "metadata": {},
   "source": [
    "### 3.3 Fitting the slope first to constraint a^2', then fit the remaining 2 parameters"
   ]
  },
  {
   "cell_type": "code",
   "execution_count": 17,
   "metadata": {},
   "outputs": [
    {
     "name": "stdout",
     "output_type": "stream",
     "text": [
      "The slope is fitted to be 0.0011170176914795588\n",
      "The x-intercept is fitted to be 0.011822667538792056\n"
     ]
    },
    {
     "data": {
      "image/png": "[encoded data removed]",
      "text/plain": [
       "<Figure size 864x288 with 1 Axes>"
      ]
     },
     "metadata": {
      "needs_background": "light"
     },
     "output_type": "display_data"
    }
   ],
   "source": [
    "# extracting only the linear parts of the dispersion fucntion to do lienar fitting \n",
    "ell_linear_fit = ell2_plot[12:16]\n",
    "avg_cos_deltaPA_linear_fit = avg_cos_deltaPA_plot[12:16]\n",
    "\n",
    "def linear_fuc(ell2, a_2_prime, c):\n",
    "    linear = a_2_prime*ell2 + c\n",
    "    return linear\n",
    "\n",
    "parameters, covariance = curve_fit(linear_fuc, ell_linear_fit, avg_cos_deltaPA_linear_fit)\n",
    "\n",
    "fit_slope = parameters[0]\n",
    "fit_intercept = parameters[1]\n",
    "\n",
    "print(\"The slope is fitted to be\", fit_slope)\n",
    "print(\"The x-intercept is fitted to be\", fit_intercept)\n",
    "\n",
    "linear_fuc_fit = linear_fuc(ell_fit, fit_slope, fit_intercept)\n",
    "fig = plt.figure(figsize=(12,4))\n",
    "plt.xlabel(r'$ \\mathrm{Distance}^2\\/\\/ \\ell^2\\/\\/ [\\mathrm{arcsec}]$')\n",
    "plt.ylabel(r'$[1 - <\\mathrm{cos}(\\Delta \\Phi)>]$')\n",
    "plt.scatter(ell_fit, avg_cos_deltaPA_fit)\n",
    "plt.plot(ell_fit, linear_fuc_fit, '-')\n",
    "plt.show() "
   ]
  },
  {
   "cell_type": "code",
   "execution_count": 32,
   "metadata": {},
   "outputs": [
    {
     "name": "stdout",
     "output_type": "stream",
     "text": [
      "The sqaure of PA dispersion is fitted to be 0.22115320080219156\n",
      "delta is fitted to be 2.0000000000000004\n"
     ]
    },
    {
     "data": {
      "image/png": "[encoded data removed]",
      "text/plain": [
       "<Figure size 864x288 with 1 Axes>"
      ]
     },
     "metadata": {
      "needs_background": "light"
     },
     "output_type": "display_data"
    }
   ],
   "source": [
    "# use the value of a' in linear fit above to give more constraints to the fits\n",
    "Delta_prime = trial_distance # 9.8 arcsec\n",
    "a_2_prime = fit_slope\n",
    "\n",
    "def correlation_func(ell2, delta, PAdispersion4):\n",
    "    correlation = np.sqrt(2*np.pi)*PAdispersion4*((delta**3)/((delta**2+2*W**2)*Delta_prime))*(1-np.exp((-ell2)/(2*(delta**2+2*W**2))))+a_2_prime*(ell2)\n",
    "    return correlation\n",
    "\n",
    "# ell2_plot_fit = ell2_plot[:5]\n",
    "# print(ell2_plot_fit)\n",
    "parameters, covariance = curve_fit(correlation_func, ell_fit, avg_cos_deltaPA_fit, bounds=([2, 0], [9, 5]))\n",
    "\n",
    "fit_delta = parameters[0]\n",
    "fit_PAdispersion4 = parameters[1]\n",
    "\n",
    "print(\"The sqaure of PA dispersion is fitted to be\", fit_PAdispersion4)\n",
    "print(\"delta is fitted to be\", fit_delta)\n",
    "\n",
    "correlation_func_fit = correlation_func(ell_fit, fit_delta, fit_PAdispersion4)\n",
    "fig = plt.figure(figsize=(12,4))\n",
    "plt.xlabel(r'$ \\mathrm{Distance}^2\\/\\/ \\ell^2\\/\\/ [\\mathrm{arcsec}]$')\n",
    "plt.ylabel(r'$[1 - <\\mathrm{cos}(\\Delta \\Phi)>]$')\n",
    "plt.scatter(ell_fit, avg_cos_deltaPA_fit)\n",
    "plt.plot(ell_fit, correlation_func_fit, '-')\n",
    "plt.show() "
   ]
  },
  {
   "cell_type": "markdown",
   "metadata": {},
   "source": [
    "<font size=\"3\">\n",
    "Comment:<br>\n",
    "the turbulent correlation length is constrained to be between the beam radius and the effective cloud depth. The square of the angular dispersion is constrained arbitrarily. This is the method with the most reasonable constraints but the fitting is not so good. The linear part seems to be overpowering the exponential part at small distance. \n",
    "</font>"
   ]
  }
 ],
 "metadata": {
  "kernelspec": {
   "display_name": "Python 3",
   "language": "python",
   "name": "python3"
  },
  "language_info": {
   "codemirror_mode": {
    "name": "ipython",
    "version": 3
   },
   "file_extension": ".py",
   "mimetype": "text/x-python",
   "name": "python",
   "nbconvert_exporter": "python",
   "pygments_lexer": "ipython3",
   "version": "3.8.5"
  }
 },
 "nbformat": 4,
 "nbformat_minor": 4
}
